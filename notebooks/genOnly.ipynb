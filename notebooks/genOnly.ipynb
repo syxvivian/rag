{
 "cells": [
  {
   "cell_type": "code",
   "execution_count": 4,
   "metadata": {},
   "outputs": [],
   "source": [
    "import os\n",
    "from dotenv import load_dotenv\n",
    "load_dotenv()\n",
    "SUMMARIZE_MODEL_OCID = os.getenv('SUMMARIZE_MODEL_OCID') \n",
    "GEN_AI_INFERENCE_ENDPOINT = os.getenv('GEN_AI_INFERENCE_ENDPOINT') \n",
    "COMPARTMENT_ID = os.getenv('COMPARTMENT_ID') \n",
    "GENERATION_MODEL_OCID = os.getenv('GENERATION_MODEL_OCID') \n",
    "GEN_AI_ENDPOINT = os.getenv('GEN_AI_ENDPOINT') \n",
    "GENERATION_MODEL_OCID_llam = os.getenv('GENERATION_MODEL_OCID_llam') \n",
    "\n",
    "\n",
    "\n",
    "import oci\n",
    "config = oci.config.from_file()\n",
    "\n",
    "\n",
    "\n"
   ]
  },
  {
   "cell_type": "code",
   "execution_count": 6,
   "metadata": {},
   "outputs": [],
   "source": [
    "import textwrap\n",
    "\n",
    "# Function to wrap text at 80 characters per line while keeping sentences intact\n",
    "def wrap_text_by_sentence(text, target_language_code, width=80):\n",
    "    if target_language_code == 'ja':\n",
    "        splitStr = \"。\" # Split text into sentences based on period (。)\n",
    "    else:\n",
    "        splitStr = \". \"\n",
    "    sentences = text.split(splitStr) \n",
    "    wrapped_sentences = []\n",
    "    for sentence in sentences:\n",
    "        if sentence:\n",
    "            # Wrap each sentence with a width of 80 characters\n",
    "            wrapped_sentence = textwrap.fill(sentence + splitStr, width=width)\n",
    "            wrapped_sentences.append(wrapped_sentence)\n",
    "    return \"\\n\".join(wrapped_sentences)\n"
   ]
  },
  {
   "cell_type": "markdown",
   "metadata": {},
   "source": [
    "## translate with OCI"
   ]
  },
  {
   "cell_type": "code",
   "execution_count": 2,
   "metadata": {},
   "outputs": [],
   "source": [
    "\n",
    "# translate methord made with ai_language\n",
    "def translate_and_wrap_text(text_from, compartment_id, source_language_code, target_language_code):\n",
    "    # Initialize service client with default config file\n",
    "    ai_language_client = oci.ai_language.AIServiceLanguageClient(config)\n",
    "    \n",
    "    # Send the request to service, some parameters are not required, see API doc for more info\n",
    "    batch_language_translation_response = ai_language_client.batch_language_translation(\n",
    "        batch_language_translation_details=oci.ai_language.models.BatchLanguageTranslationDetails(\n",
    "            documents=[\n",
    "                oci.ai_language.models.TextDocument(\n",
    "                    key=\"1\",\n",
    "                    text=text_from,\n",
    "                    language_code=source_language_code)],\n",
    "            compartment_id=compartment_id,\n",
    "            target_language_code=target_language_code),\n",
    "        opc_request_id=\"VUPH6Z9C2LD99QDZBJODaaaaaaaamlgyvhoa4qvxzsoguxpdo62juyzpnaxscwq3n5kaxptrha5ihy4a\")\n",
    "    \n",
    "    # Get the data from response\n",
    "    translated_text = batch_language_translation_response.data.documents[0].translated_text\n",
    "    \n",
    "    # Wrap the translated text by sentence\n",
    "    wrapped_text = wrap_text_by_sentence(translated_text,target_language_code)\n",
    "    \n",
    "    return wrapped_text\n",
    "\n"
   ]
  },
  {
   "cell_type": "code",
   "execution_count": 7,
   "metadata": {},
   "outputs": [
    {
     "name": "stdout",
     "output_type": "stream",
     "text": [
      "適切な廃棄物管理は、すべての生活システムの健全性に不可欠です。\n",
      "私たちの助成金には、ナイジェリアのラゴスの社会企業であるウェサイクラーズ、人口密集した都市部での廃棄物リサイクルを奨励するウェサイクラーズ、ケニアのナイロビのW\n",
      "EEEセンター、電子廃棄物の環境および健康上の危険に対する公衆の認識を促進し、再利用、リサイクル、および安全な処分について市民に教育する。\n",
      "OracleはCalifornia Coastal Cleanup\n",
      "Dayの創設スポンサーでもあり、1995年以来、毎年何十万ポンドものゴミをCalifornia Waterwaysから削除しています。\n"
     ]
    }
   ],
   "source": [
    "\n",
    "# Example usage\n",
    "text_from = \"Proper waste management is essential to the health of all living systems. Our grantees include Wecyclers, a social enterprise in Lagos, Nigeria, that incentives waste recycling in densely populated urban neighbourhoods, and the WEEE Centre in Nairobi, Kenya, which promotes public awareness of the environmental and health hazards of e-waste and educates the public about reuse, recycling, and safe disposal. Oracle is also a founding sponsor of California Coastal Cleanup Day, which has removed hundreds of thousands of pounds of trash from California waterways each year since 1995\"\n",
    "source_language_code = \"en\"\n",
    "target_language_code = \"ja\"\n",
    "\n",
    "translated_and_wrapped_text = translate_and_wrap_text(text_from, COMPARTMENT_ID, source_language_code, target_language_code)\n",
    "print(translated_and_wrapped_text)"
   ]
  },
  {
   "cell_type": "code",
   "execution_count": 8,
   "metadata": {},
   "outputs": [
    {
     "name": "stdout",
     "output_type": "stream",
     "text": [
      "Proper waste management is essential to the health of all living systems.\n"
     ]
    }
   ],
   "source": [
    "# Example usage\n",
    "text_from = \"適切な廃棄物管理は、すべての生活システムの健全性に不可欠です\"\n",
    "source_language_code = \"ja\"\n",
    "target_language_code = \"en\"\n",
    "\n",
    "translated_and_wrapped_text = translate_and_wrap_text(text_from, COMPARTMENT_ID, source_language_code, target_language_code)\n",
    "print(translated_and_wrapped_text)"
   ]
  },
  {
   "cell_type": "markdown",
   "metadata": {},
   "source": [
    "##  generate with cohere or meta.llama-2-70b-chat"
   ]
  },
  {
   "cell_type": "code",
   "execution_count": 49,
   "metadata": {},
   "outputs": [],
   "source": [
    "class GenerativeAiClient:\n",
    "    def __init__(self, config, service_endpoint):\n",
    "        self.gen_ai_inference_client = oci.generative_ai_inference.GenerativeAiInferenceClient(\n",
    "            config=config,\n",
    "            service_endpoint=service_endpoint,\n",
    "            retry_strategy=oci.retry.NoneRetryStrategy(),\n",
    "            timeout=(10, 240)\n",
    "        )\n",
    "        self.generate_text_details = oci.generative_ai_inference.models.GenerateTextDetails()\n",
    "        self.inference_requests = oci.generative_ai_inference.models.CohereLlmInferenceRequest()\n",
    "        self.llam_inference_request = oci.generative_ai_inference.models.LlamaLlmInferenceRequest()\n",
    "\n",
    "    def generate_job_description_cohere(self, prompt, compartment_id, model_id, parameters=None):\n",
    "      \n",
    "        # Set parameters values\n",
    "        self.inference_requests.prompt = prompt\n",
    "        self.inference_requests.max_tokens = parameters.get('max_tokens', 600)\n",
    "        self.inference_requests.temperature = parameters.get('temperature', 0.75)\n",
    "        self.inference_requests.is_stream = parameters.get('is_stream', False)\n",
    "        self.inference_requests.num_generations = parameters.get('num_generations', 1)\n",
    "\n",
    "        self.generate_text_details.compartment_id = compartment_id\n",
    "        self.generate_text_details.serving_mode = oci.generative_ai_inference.models.OnDemandServingMode(model_id=model_id)\n",
    "        self.generate_text_details.inference_request = self.inference_requests\n",
    "\n",
    "        generate_text_response = self.gen_ai_inference_client.generate_text(self.generate_text_details)\n",
    "\n",
    "        return generate_text_response.data\n",
    "    \n",
    "    def generate_job_description_llam(self, llam_model_ocid, compartment_id, prompt, parameters=None):\n",
    "        generate_text_detail = oci.generative_ai_inference.models.GenerateTextDetails()\n",
    "        \n",
    "        self.llam_inference_request.prompt = prompt\n",
    "\n",
    "        # Set parameters values\n",
    "        self.llam_inference_request.max_tokens = parameters.get('max_tokens', 600)\n",
    "        self.llam_inference_request.temperature = parameters.get('temperature', 1)\n",
    "        self.llam_inference_request.frequency_penalty = parameters.get('frequency_penalty', 0)\n",
    "        self.llam_inference_request.top_p = parameters.get('top_p', 0.75)\n",
    "\n",
    "        generate_text_detail.serving_mode = oci.generative_ai_inference.models.OnDemandServingMode(model_id=llam_model_ocid)\n",
    "        generate_text_detail.inference_request = self.llam_inference_request\n",
    "        generate_text_detail.compartment_id = compartment_id\n",
    "\n",
    "        generate_text_response = self.gen_ai_inference_client.generate_text(generate_text_detail)\n",
    "\n",
    "        return generate_text_response.data\n"
   ]
  },
  {
   "cell_type": "code",
   "execution_count": 50,
   "metadata": {},
   "outputs": [],
   "source": [
    "# Create an instance of GenerativeAiClient\n",
    "client = GenerativeAiClient(config=config, service_endpoint=GEN_AI_INFERENCE_ENDPOINT)\n",
    "\n",
    "# Using the second method to generate job description\n",
    "compartment_id = COMPARTMENT_ID\n",
    "prompt = \"\"\"\n",
    "Generate a job description for a data visualization expert with the following three qualifications only:\n",
    "1) At least 5 years of data visualization experience\n",
    "2) A great eye for detail\n",
    "3) Ability to create original visualizations\n",
    "\"\"\"\n",
    "model_ocid = GENERATION_MODEL_OCID\n",
    "\n",
    "# Define parameters to adjust\n",
    "parameters = {\n",
    "    'max_tokens': 800\n",
    "    #,'num_generations': 3\n",
    "}\n",
    "\n",
    "# Generate job description using generate_job_description_cohere method and adjust parameters here\n",
    "generated_text_cohere = client.generate_job_description_cohere(prompt, compartment_id,  model_ocid, parameters)"
   ]
  },
  {
   "cell_type": "code",
   "execution_count": 51,
   "metadata": {},
   "outputs": [
    {
     "name": "stdout",
     "output_type": "stream",
     "text": [
      "**************************Generate Texts Result**************************\n",
      " We're looking for a talented Data Visualization Expert to join our team! The\n",
      "ideal candidate will have at least 5 years of experience in data visualization,\n",
      "a strong eye for detail, and the ability to create innovative and original\n",
      "visualizations that effectively communicate complex data insights to diverse\n",
      "audiences.\n",
      "  The Data Visualization Expert will play a crucial role in designing and\n",
      "developing visually appealing and informative representations of data for our\n",
      "company.\n",
      "They will work closely with our team of data analysts and scientists to\n",
      "understand the findings and insights from complex data sets and transform them\n",
      "into concise and easy-to-understand visualizations.\n",
      "  Key responsibilities include: - Designing and developing high-quality\n",
      "visualizations that effectively communicate data insights to stakeholders,\n",
      "including executives, clients, and team members across different departments. -\n",
      "Interpreting data and determining the best ways to present it visually, using\n",
      "various data visualization tools and techniques to create charts, graphs,\n",
      "dashboards, and other visual representations. - Collaborating with cross-\n",
      "functional teams to understand data needs and requirements, incorporating\n",
      "feedback and making iterative improvements to ensure the final deliverables meet\n",
      "expectations. - Conducting research and staying up to date on industry trends\n",
      "and best practices in data visualization to ensure the adoption of cutting-edge\n",
      "tools and techniques.  Qualifications: - At least 5 years of professional\n",
      "experience in data visualization, preferably in a fast-paced business\n",
      "environment. - Strong attention to detail and commitment to accuracy and quality\n",
      "in creating data visualizations. - Proficiency in using data visualization\n",
      "software such as Tableau, Power BI, or equivalent tools. - Excellent\n",
      "communication skills to effectively convey complex data stories to both\n",
      "technical and non-technical stakeholders. - Ability to work independently and\n",
      "manage multiple projects simultaneously while meeting tight deadlines.  We are\n",
      "looking for someone who is passionate about data visualization and constantly\n",
      "seeking opportunities to learn and grow.\n",
      "If you have a portfolio of your work, please include it with your application to\n",
      "provide examples of your data visualization skills.\n",
      "  If you think you would be a good fit for this position and meet the\n",
      "qualifications listed above, we encourage you to apply.\n",
      "Please send your resume and a cover letter explaining why you think you would be\n",
      "the best candidate for this position.\n",
      "We look forward to hearing from you!   Is there anything specific you would like\n",
      "me to clarify or expand on regarding this job description? .\n"
     ]
    }
   ],
   "source": [
    "print(\"**************************Generate Texts Result**************************\")\n",
    "generated_result = generated_text_cohere.inference_response.generated_texts[0].text\n",
    "# Wrap the translated text by sentence\n",
    "generated_result_wrapped_text = wrap_text_by_sentence(generated_result,'en')\n",
    "print(generated_result_wrapped_text)"
   ]
  },
  {
   "cell_type": "code",
   "execution_count": 52,
   "metadata": {},
   "outputs": [],
   "source": [
    "# Create an instance of GenerativeAiClient\n",
    "client = GenerativeAiClient(config=config, service_endpoint=GEN_AI_INFERENCE_ENDPOINT)\n",
    "\n",
    "# Using the second method to generate job description\n",
    "llam_model_ocid = GENERATION_MODEL_OCID_llam\n",
    "endpoint = GEN_AI_INFERENCE_ENDPOINT\n",
    "compartment_id = COMPARTMENT_ID\n",
    "prompt = \"\"\"\n",
    "Generate a job description for a data visualization expert with the following three qualifications only:\n",
    "1) At least 5 years of data visualization experience\n",
    "2) A great eye for detail\n",
    "3) Ability to create original visualizations\n",
    "\"\"\""
   ]
  },
  {
   "cell_type": "code",
   "execution_count": 53,
   "metadata": {},
   "outputs": [],
   "source": [
    "# Define parameters to adjust\n",
    "parameters = {\n",
    "    'max_tokens': 800,\n",
    "    'temperature': 1.2,\n",
    "    'frequency_penalty': 0.1,\n",
    "    'top_p': 0.8\n",
    "}\n",
    "\n",
    "# Generate job description using generate_job_description_llam method and adjust parameters here\n",
    "generated_text = client.generate_job_description_llam(llam_model_ocid, compartment_id, prompt, parameters)"
   ]
  },
  {
   "cell_type": "code",
   "execution_count": 54,
   "metadata": {},
   "outputs": [
    {
     "name": "stdout",
     "output_type": "stream",
     "text": [
      "**************************Generate Texts Result**************************\n",
      " Job Title: Data Visualization Expert  Job Summary:  We are seeking a highly\n",
      "skilled Data Visualization Expert to join our team.\n",
      "The successful candidate will have at least 5 years of experience in data\n",
      "visualization, a great eye for detail, and the ability to create original\n",
      "visualizations.\n",
      "The Data Visualization Expert will be responsible for creating interactive and\n",
      "informative visualizations that help our clients understand complex data and\n",
      "make informed decisions.\n",
      "This is a full-time position located in our downtown office.  Responsibilities:\n",
      "* Create interactive and informative data visualizations that effectively\n",
      "communicate complex data insights to clients * Work closely with clients to\n",
      "understand their data and visualization needs * Develop and maintain databases\n",
      "and data systems to support data visualization efforts * Design and implement\n",
      "data visualization tools and systems * Collaborate with data scientists and\n",
      "analysts to develop statistical models and analysis * Ensure that all\n",
      "visualizations are visually appealing and meet the highest standards of quality\n",
      "* Stay up-to-date with new technologies and trends in data visualization *\n",
      "Provide training and support to clients on data visualization best practices and\n",
      "tools  Requirements:  * At least 5 years of experience in data visualization * A\n",
      "great eye for detail * Ability to create original visualizations * Strong\n",
      "knowledge of data visualization tools and technologies, such as Tableau, Power\n",
      "BI, D3.js, and React * Strong programming skills in languages such as Python, R,\n",
      "or JavaScript * Experience working with large datasets and various data sources\n",
      "* Strong understanding of statistics and data analysis * Excellent communication\n",
      "and collaboration skills * Bachelor's degree in Computer Science, Data Science,\n",
      "Statistics, or a related field  Nice to Have:  * Master's degree in Computer\n",
      "Science, Data Science, Statistics, or a related field * Experience working in a\n",
      "fast-paced consulting environment * Familiarity with machine learning algorithms\n",
      "and techniques * Experience with cloud-based data visualization tools and\n",
      "platforms * Familiarity with data storytelling techniques and principles *\n",
      "Experience working with stakeholders to gather requirements and feedback  What\n",
      "We Offer:  * Competitive salary and benefits package * Opportunities for career\n",
      "growth and professional development * Collaborative and dynamic work environment\n",
      "* Access to cutting-edge technologies and tools * Flexible work arrangements and\n",
      "remote work options * A chance to work with a talented team of data scientists,\n",
      "analysts, and visualization experts  How to Apply:  If you are passionate about\n",
      "data visualization and have a track record of creating informative and engaging\n",
      "visualizations, we encourage you to apply for this exciting opportunity.\n",
      "Please submit your resume, cover letter, and portfolio of work to [insert\n",
      "contact information].\n",
      "We look forward to hearing from you!.\n"
     ]
    }
   ],
   "source": [
    "\n",
    "# Process the generated job description\n",
    "print(\"**************************Generate Texts Result**************************\")\n",
    "generated_result = generated_text.inference_response.choices[0].text\n",
    "# Wrap the translated text by sentence\n",
    "generated_result_wrapped_text = wrap_text_by_sentence(generated_result,'en')\n",
    "print(generated_result_wrapped_text)"
   ]
  },
  {
   "cell_type": "code",
   "execution_count": null,
   "metadata": {},
   "outputs": [],
   "source": [
    "\n"
   ]
  },
  {
   "cell_type": "code",
   "execution_count": null,
   "metadata": {},
   "outputs": [],
   "source": []
  }
 ],
 "metadata": {
  "kernelspec": {
   "display_name": "rag",
   "language": "python",
   "name": "python3"
  },
  "language_info": {
   "codemirror_mode": {
    "name": "ipython",
    "version": 3
   },
   "file_extension": ".py",
   "mimetype": "text/x-python",
   "name": "python",
   "nbconvert_exporter": "python",
   "pygments_lexer": "ipython3",
   "version": "3.10.0"
  }
 },
 "nbformat": 4,
 "nbformat_minor": 2
}
